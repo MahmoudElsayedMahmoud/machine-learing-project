{
 "cells": [
  {
   "cell_type": "code",
   "execution_count": 1,
   "id": "b20e69e3",
   "metadata": {},
   "outputs": [],
   "source": [
    "import numpy as np\n",
    "from sklearn import *\n",
    "from sklearn.model_selection import train_test_split\n",
    "import matplotlib.pylab as plt\n",
    "from sklearn.preprocessing import StandardScaler\n",
    "from sklearn.datasets import make_classification \n",
    "from sklearn.metrics import mean_squared_error, r2_score\n",
    "from numpy import asarray\n",
    "from numpy.random import rand\n",
    "import matplotlib.pyplot as plt\n",
    "from sklearn.metrics import accuracy_score\n",
    "from sklearn.datasets import make_regression, make_classification"
   ]
  },
  {
   "cell_type": "code",
   "execution_count": 2,
   "id": "21c97fd1",
   "metadata": {},
   "outputs": [],
   "source": [
    "def linear_regression(X, y, m_current=0, b_current=0, epochs=1000, learning_rate=0.0001):\n",
    "    N = float(len(y))\n",
    "    losses = []\n",
    "    for i in range(epochs):\n",
    "        y_current = (m_current * X) + b_current\n",
    "        cost = sum([data**2 for data in (y-y_current)]) / N\n",
    "        losses.append(cost)\n",
    "        m_gradient = -(2/N) * sum(X * (y - y_current))\n",
    "        b_gradient = -(2/N) * sum(y - y_current)\n",
    "        m_current = m_current - (learning_rate * m_gradient)\n",
    "        b_current = b_current - (learning_rate * b_gradient)\n",
    "    return m_current, b_current, cost, losses"
   ]
  },
  {
   "cell_type": "code",
   "execution_count": 3,
   "id": "e116218b",
   "metadata": {},
   "outputs": [],
   "source": [
    "X, y = make_regression(n_features=1, n_informative=1, random_state=541, noise=20, bias=1)"
   ]
  },
  {
   "cell_type": "code",
   "execution_count": 4,
   "id": "a6e97c5d",
   "metadata": {},
   "outputs": [],
   "source": [
    "X = X.reshape(-1,)"
   ]
  },
  {
   "cell_type": "code",
   "execution_count": 5,
   "id": "134ef932",
   "metadata": {},
   "outputs": [
    {
     "data": {
      "text/plain": [
       "array([ 0.37887517, -1.68920756, -1.1405751 , -0.54768504, -0.06843818,\n",
       "       -0.94799782, -0.53348326,  1.41837612, -0.13495929,  0.52342384,\n",
       "        2.25309903, -1.27409275, -1.49623097, -0.86466962,  1.01275901,\n",
       "       -0.8329233 ,  0.6612501 , -0.68339166,  0.17642816, -2.0848473 ,\n",
       "        0.26717017, -0.78152127, -1.0072259 ,  0.10911031,  0.16769325,\n",
       "       -2.27166678,  0.109464  , -0.14013161,  1.43853796, -1.02998216,\n",
       "        1.06976448,  0.01167763, -0.60055752,  0.60545103,  0.58679479,\n",
       "       -0.15184937, -0.39086951,  1.30814435, -0.6641672 ,  1.04510487,\n",
       "        0.5122056 , -1.33478891,  0.35626019, -0.99182561, -1.56767338,\n",
       "        2.32629982,  0.83964243, -0.71681378,  0.80334419,  0.63857755,\n",
       "        1.67776747, -2.186354  ,  2.17906476,  0.07836539, -1.21142378,\n",
       "        0.64851654, -1.18639471, -0.91019113,  0.19324934, -0.10387822,\n",
       "        1.0459371 ,  0.88182223, -0.79661653,  0.03913644, -0.99959279,\n",
       "        2.02900046, -0.50439083, -0.01785707, -0.23449671,  0.12419133,\n",
       "        0.41603259, -1.22721159,  0.19265103,  1.26511274, -0.63183712,\n",
       "       -0.97471062,  1.46439702,  0.53925316, -0.79804625,  0.67579395,\n",
       "        1.18813874,  0.25414712, -0.43766296, -2.1187607 , -1.62709298,\n",
       "        0.39861496, -0.09159226,  0.98859755,  0.21317131,  0.4579301 ,\n",
       "        0.66649599, -0.48018603, -0.13225877, -0.33481827, -1.51300308,\n",
       "        0.26409089,  0.29209587,  0.55939238,  0.98266628, -0.1505257 ])"
      ]
     },
     "execution_count": 5,
     "metadata": {},
     "output_type": "execute_result"
    }
   ],
   "source": [
    "X"
   ]
  },
  {
   "cell_type": "code",
   "execution_count": 6,
   "id": "207b58b1",
   "metadata": {},
   "outputs": [
    {
     "data": {
      "text/plain": [
       "<matplotlib.collections.PathCollection at 0x1d25bf720d0>"
      ]
     },
     "execution_count": 6,
     "metadata": {},
     "output_type": "execute_result"
    },
    {
     "data": {
      "image/png": "[encoded data removed]",
      "text/plain": [
       "<Figure size 432x288 with 1 Axes>"
      ]
     },
     "metadata": {
      "needs_background": "light"
     },
     "output_type": "display_data"
    }
   ],
   "source": [
    "plt.scatter(X, y)"
   ]
  },
  {
   "cell_type": "code",
   "execution_count": 7,
   "id": "546c6357",
   "metadata": {},
   "outputs": [],
   "source": [
    "from sklearn.model_selection import train_test_split\n",
    "X_train, X_test, y_train, y_test = train_test_split(X, y, test_size = 0.25)"
   ]
  },
  {
   "cell_type": "code",
   "execution_count": 8,
   "id": "a2799f52",
   "metadata": {},
   "outputs": [],
   "source": [
    "m_current, b_current, cost, losses = linear_regression(\n",
    "    X_train, y_train, \n",
    "    m_current=0,\n",
    "    b_current=0,\n",
    "    learning_rate=0.01,\n",
    "    epochs=5000)"
   ]
  },
  {
   "cell_type": "code",
   "execution_count": 9,
   "id": "726f29cb",
   "metadata": {},
   "outputs": [
    {
     "data": {
      "text/plain": [
       "50.07113768986886"
      ]
     },
     "execution_count": 9,
     "metadata": {},
     "output_type": "execute_result"
    }
   ],
   "source": [
    "m_current"
   ]
  },
  {
   "cell_type": "code",
   "execution_count": 10,
   "id": "0d69d097",
   "metadata": {},
   "outputs": [],
   "source": [
    "y_pred = (m_current * X_test) + b_current"
   ]
  },
  {
   "cell_type": "code",
   "execution_count": 11,
   "id": "300f2d56",
   "metadata": {},
   "outputs": [
    {
     "data": {
      "text/plain": [
       "391.44225130120884"
      ]
     },
     "execution_count": 11,
     "metadata": {},
     "output_type": "execute_result"
    }
   ],
   "source": [
    "cost"
   ]
  },
  {
   "cell_type": "code",
   "execution_count": 12,
   "id": "960e6e87",
   "metadata": {},
   "outputs": [
    {
     "data": {
      "text/plain": [
       "[<matplotlib.lines.Line2D at 0x1d25c0a1e20>]"
      ]
     },
     "execution_count": 12,
     "metadata": {},
     "output_type": "execute_result"
    },
    {
     "data": {
      "image/png": "[encoded data removed]",
      "text/plain": [
       "<Figure size 432x288 with 1 Axes>"
      ]
     },
     "metadata": {
      "needs_background": "light"
     },
     "output_type": "display_data"
    }
   ],
   "source": [
    "plt.plot(range(5000), losses[:5000])"
   ]
  },
  {
   "cell_type": "code",
   "execution_count": 13,
   "id": "cb35b3bf",
   "metadata": {},
   "outputs": [],
   "source": [
    "from sklearn.metrics import r2_score"
   ]
  },
  {
   "cell_type": "code",
   "execution_count": 14,
   "id": "5fc32927",
   "metadata": {},
   "outputs": [
    {
     "data": {
      "text/plain": [
       "0.7945274080707438"
      ]
     },
     "execution_count": 14,
     "metadata": {},
     "output_type": "execute_result"
    }
   ],
   "source": [
    "r2_score(y_test,y_pred)"
   ]
  },
  {
   "cell_type": "code",
   "execution_count": 15,
   "id": "9a88af3e",
   "metadata": {},
   "outputs": [],
   "source": [
    "from sklearn.metrics import mean_squared_error"
   ]
  },
  {
   "cell_type": "code",
   "execution_count": 16,
   "id": "e60ec2bc",
   "metadata": {},
   "outputs": [
    {
     "data": {
      "text/plain": [
       "20.346352442122864"
      ]
     },
     "execution_count": 16,
     "metadata": {},
     "output_type": "execute_result"
    }
   ],
   "source": [
    "mean_squared_error(y_test, y_pred,  squared=False)"
   ]
  },
  {
   "cell_type": "code",
   "execution_count": null,
   "id": "eec213ae",
   "metadata": {},
   "outputs": [],
   "source": []
  }
 ],
 "metadata": {
  "kernelspec": {
   "display_name": "Python 3 (ipykernel)",
   "language": "python",
   "name": "python3"
  },
  "language_info": {
   "codemirror_mode": {
    "name": "ipython",
    "version": 3
   },
   "file_extension": ".py",
   "mimetype": "text/x-python",
   "name": "python",
   "nbconvert_exporter": "python",
   "pygments_lexer": "ipython3",
   "version": "3.9.7"
  }
 },
 "nbformat": 4,
 "nbformat_minor": 5
}
