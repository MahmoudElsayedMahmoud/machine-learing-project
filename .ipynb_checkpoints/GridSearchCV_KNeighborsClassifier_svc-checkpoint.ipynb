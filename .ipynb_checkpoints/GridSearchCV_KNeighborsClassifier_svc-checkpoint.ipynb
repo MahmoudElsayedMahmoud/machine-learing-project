{
 "cells": [
  {
   "cell_type": "code",
   "execution_count": 1,
   "id": "188cfa11",
   "metadata": {},
   "outputs": [],
   "source": [
    "import numpy as np\n",
    "from sklearn import *\n",
    "from sklearn.model_selection import train_test_split\n",
    "import matplotlib.pylab as plt\n",
    "from sklearn.preprocessing import StandardScaler\n",
    "from sklearn.datasets import make_classification \n",
    "from sklearn.metrics import mean_squared_error, r2_score\n",
    "from numpy import asarray\n",
    "from numpy.random import rand\n",
    "import matplotlib.pyplot as plt\n",
    "from sklearn.metrics import accuracy_score\n",
    "from sklearn.datasets import make_regression, make_classification"
   ]
  },
  {
   "cell_type": "code",
   "execution_count": 2,
   "id": "7105824e",
   "metadata": {},
   "outputs": [
    {
     "data": {
      "image/png": "[encoded data removed]",
      "text/plain": [
       "<Figure size 432x288 with 1 Axes>"
      ]
     },
     "metadata": {
      "needs_background": "light"
     },
     "output_type": "display_data"
    }
   ],
   "source": [
    "from sklearn.datasets import make_moons\n",
    "from matplotlib import pyplot\n",
    "from pandas import DataFrame\n",
    "# generate 2d classification dataset\n",
    "X, y = make_moons(n_samples=300, noise=0)\n",
    "# scatter plot, dots colored by class value\n",
    "df = DataFrame(dict(x=X[:,0], y=X[:,1], label=y))\n",
    "colors = {0:'red', 1:'blue'}\n",
    "fig, ax = pyplot.subplots()\n",
    "grouped = df.groupby('label')\n",
    "for key, group in grouped:\n",
    "    group.plot(ax=ax, kind='scatter', x='x', y='y', label=key, color=colors[key])\n",
    "pyplot.show()"
   ]
  },
  {
   "cell_type": "code",
   "execution_count": 3,
   "id": "e310c5f6",
   "metadata": {},
   "outputs": [
    {
     "data": {
      "text/plain": [
       "(array([[-5.99661212e-01,  8.00253979e-01],\n",
       "        [ 1.01054206e+00, -4.99944431e-01],\n",
       "        [ 2.19583374e-01,  9.75593738e-01],\n",
       "        [ 3.50952862e-01, -2.60748192e-01],\n",
       "        [ 1.98580788e+00,  3.32122599e-01],\n",
       "        [-1.36620725e-01,  9.90623429e-01],\n",
       "        [ 1.38024716e+00, -4.24884909e-01],\n",
       "        [ 1.89433249e+00,  5.25970563e-02],\n",
       "        [ 9.92008645e-01,  1.26169919e-01],\n",
       "        [-9.99777730e-01,  2.10829523e-02],\n",
       "        [ 1.05667508e-01,  5.25970563e-02],\n",
       "        [ 1.36620725e-01,  9.90623429e-01],\n",
       "        [ 9.43634357e-01,  3.30989730e-01],\n",
       "        [ 4.93901126e-01,  8.69518072e-01],\n",
       "        [ 1.41921190e-02,  3.32122599e-01],\n",
       "        [-9.03566283e-01,  4.28448330e-01],\n",
       "        [-5.65392191e-01,  8.24822205e-01],\n",
       "        [ 1.73984391e+00, -1.72778558e-01],\n",
       "        [ 0.00000000e+00,  5.00000000e-01],\n",
       "        [ 1.63286406e+00, -2.74262931e-01],\n",
       "        [ 1.08718834e-02,  3.52943654e-01],\n",
       "        [-7.53863623e-01,  6.57030926e-01],\n",
       "        [ 1.85346535e+00, -2.11495992e-02],\n",
       "        [ 5.43193809e-01, -3.89566245e-01],\n",
       "        [ 3.99661949e-01,  9.16662602e-01],\n",
       "        [-3.99661949e-01,  9.16662602e-01],\n",
       "        [ 3.55434644e-03,  4.15761888e-01],\n",
       "        [ 9.28842104e-01,  3.70475838e-01],\n",
       "        [-9.82049414e-01,  1.88623827e-01],\n",
       "        [ 7.37288390e-02,  9.97278325e-01],\n",
       "        [ 8.01033829e-01, -4.80006358e-01],\n",
       "        [ 1.97785439e+00,  2.90713597e-01],\n",
       "        [ 7.25495307e-01,  6.88227114e-01],\n",
       "        [ 8.18815971e-01,  5.74056100e-01],\n",
       "        [ 1.99444819e+00,  3.94772596e-01],\n",
       "        [ 5.47876834e-01,  8.36559008e-01],\n",
       "        [ 7.39843910e-01,  6.72778558e-01],\n",
       "        [ 3.67135943e-01, -2.74262931e-01],\n",
       "        [ 9.47380227e-02,  9.95502239e-01],\n",
       "        [ 9.99111018e-01,  4.21565323e-02],\n",
       "        [ 3.19459347e-01, -2.32710324e-01],\n",
       "        [-9.92008645e-01,  1.26169919e-01],\n",
       "        [ 5.63656435e-02,  1.69010270e-01],\n",
       "        [-8.74676490e-01,  4.84707167e-01],\n",
       "        [ 1.97322466e+00,  2.70144058e-01],\n",
       "        [ 5.12123355e-01,  8.58911910e-01],\n",
       "        [ 1.96816230e+00,  2.49676699e-01],\n",
       "        [-6.16399642e-01,  7.87433478e-01],\n",
       "        [ 6.64941692e-01,  7.46895271e-01],\n",
       "        [ 8.42288273e-01,  5.39027332e-01],\n",
       "        [ 1.98966171e-01,  9.80006358e-01],\n",
       "        [ 1.07372884e+00, -4.97278325e-01],\n",
       "        [ 1.57475624e-01,  9.87522875e-01],\n",
       "        [ 5.62050027e-01, -3.98999344e-01],\n",
       "        [ 1.64904714e+00, -2.60748192e-01],\n",
       "        [ 2.46136377e-01, -1.57030926e-01],\n",
       "        [ 1.34091919e+00, -4.40092605e-01],\n",
       "        [-4.56806191e-01,  8.89566245e-01],\n",
       "        [ 6.35536259e-02,  1.49189241e-01],\n",
       "        [ 1.25323510e-01,  1.52928327e-02],\n",
       "        [-9.56748862e-01,  2.90915134e-01],\n",
       "        [ 1.99200864e+00,  3.73830081e-01],\n",
       "        [ 3.40919189e-01,  9.40092605e-01],\n",
       "        [ 4.00338788e-01, -3.00253979e-01],\n",
       "        [ 1.91239840e+00,  9.06967459e-02],\n",
       "        [ 1.90356628e+00,  7.15516698e-02],\n",
       "        [ 1.92884210e+00,  1.29524162e-01],\n",
       "        [ 1.00000000e+00,  0.00000000e+00],\n",
       "        [ 9.50402855e-01,  3.11021562e-01],\n",
       "        [ 9.12398403e-01,  4.09303254e-01],\n",
       "        [ 1.95040286e+00,  1.88978438e-01],\n",
       "        [-9.73224664e-01,  2.29855942e-01],\n",
       "        [ 7.19187138e-01, -4.59762542e-01],\n",
       "        [ 9.73224664e-01,  2.29855942e-01],\n",
       "        [ 1.95674886e+00,  2.09084866e-01],\n",
       "        [ 8.88981753e-04,  4.57843468e-01],\n",
       "        [ 7.67548213e-01,  6.40991217e-01],\n",
       "        [ 1.24010296e+00, -4.70747427e-01],\n",
       "        [ 8.84294909e-01, -4.93283611e-01],\n",
       "        [-2.40102964e-01,  9.70747427e-01],\n",
       "        [ 5.06098874e-01, -3.69518072e-01],\n",
       "        [ 1.58265621e+00, -3.12718735e-01],\n",
       "        [-5.12123355e-01,  8.58911910e-01],\n",
       "        [ 9.64337167e-02,  7.15516698e-02],\n",
       "        [ 1.69263230e-01, -5.66654461e-02],\n",
       "        [ 1.99800016e+00,  4.36788628e-01],\n",
       "        [-7.37288390e-02,  9.97278325e-01],\n",
       "        [-4.93901126e-01,  8.69518072e-01],\n",
       "        [ 2.60156090e-01, -1.72778558e-01],\n",
       "        [ 2.22270140e-04,  4.78917048e-01],\n",
       "        [-5.82656209e-01,  8.12718735e-01],\n",
       "        [-6.80540653e-01,  7.32710324e-01],\n",
       "        [-9.47380227e-02,  9.95502239e-01],\n",
       "        [ 3.21023485e-01,  9.47071234e-01],\n",
       "        [ 7.93887844e-01,  6.08064216e-01],\n",
       "        [ 1.84228827e+00, -3.90273323e-02],\n",
       "        [ 1.15747562e+00, -4.87522875e-01],\n",
       "        [ 8.76015968e-02,  9.06967459e-02],\n",
       "        [ 5.65392191e-01,  8.24822205e-01],\n",
       "        [ 5.99661212e-01,  8.00253979e-01],\n",
       "        [ 2.19108402e-01, -1.24666561e-01],\n",
       "        [ 1.54787683e+00, -3.36559008e-01],\n",
       "        [ 5.26868800e-02,  9.98611082e-01],\n",
       "        [ 9.89128117e-01,  1.47056346e-01],\n",
       "        [ 5.24540661e-01, -3.79737698e-01],\n",
       "        [-9.94448185e-01,  1.05227404e-01],\n",
       "        [ 6.39336660e-01, -4.32696068e-01],\n",
       "        [-7.67548213e-01,  6.40991217e-01],\n",
       "        [ 1.98912812e+00,  3.52943654e-01],\n",
       "        [ 7.11578964e-02,  1.29524162e-01],\n",
       "        [ 1.59966121e+00, -3.00253979e-01],\n",
       "        [ 6.19752838e-01, -4.24884909e-01],\n",
       "        [ 2.21456133e-02,  2.90713597e-01],\n",
       "        [ 5.82656209e-01,  8.12718735e-01],\n",
       "        [-8.18815971e-01,  5.74056100e-01],\n",
       "        [ 1.99977773e+00,  4.78917048e-01],\n",
       "        [-9.28842104e-01,  3.70475838e-01],\n",
       "        [ 3.83600358e-01, -2.87433478e-01],\n",
       "        [ 5.30117924e-01,  8.47923927e-01],\n",
       "        [ 1.32102349e+00, -4.47071234e-01],\n",
       "        [ 1.75386362e+00, -1.57030926e-01],\n",
       "        [-4.18899070e-01,  9.08032802e-01],\n",
       "        [-9.77854387e-01,  2.09286403e-01],\n",
       "        [-8.06531175e-01,  5.91191562e-01],\n",
       "        [-3.21023485e-01,  9.47071234e-01],\n",
       "        [ 5.55181465e-03,  3.94772596e-01],\n",
       "        [-9.36446374e-01,  3.50810759e-01],\n",
       "        [ 1.15298866e-01,  3.38413313e-02],\n",
       "        [-1.57475624e-01,  9.87522875e-01],\n",
       "        [-6.49047138e-01,  7.60748192e-01],\n",
       "        [-5.30117924e-01,  8.47923927e-01],\n",
       "        [ 2.89175809e-01, -2.03369724e-01],\n",
       "        [ 3.80247162e-01,  9.24884909e-01],\n",
       "        [ 1.03162150e+00, -4.99499915e-01],\n",
       "        [ 1.35736983e-01, -3.04019406e-03],\n",
       "        [ 9.05261977e-01, -4.95502239e-01],\n",
       "        [ 1.11570509e+00, -4.93283611e-01],\n",
       "        [ 2.60515818e-01,  9.65469579e-01],\n",
       "        [-9.99111018e-01,  4.21565323e-02],\n",
       "        [ 1.88470113e+00,  3.38413313e-02],\n",
       "        [ 8.21739480e-01, -4.83983327e-01],\n",
       "        [-3.60663340e-01,  9.32696068e-01],\n",
       "        [ 1.83073677e+00, -5.66654461e-02],\n",
       "        [ 6.78976515e-01, -4.47071234e-01],\n",
       "        [-1.00000000e+00,  1.22464680e-16],\n",
       "        [ 6.00338051e-01, -4.16662602e-01],\n",
       "        [ 6.32864057e-01,  7.74262931e-01],\n",
       "        [ 4.37949973e-01,  8.98999344e-01],\n",
       "        [-6.95837086e-01,  7.18199659e-01],\n",
       "        [-7.93887844e-01,  6.08064216e-01],\n",
       "        [ 1.79388784e+00, -1.08064216e-01],\n",
       "        [ 1.99911102e+00,  4.57843468e-01],\n",
       "        [ 1.68054065e+00, -2.32710324e-01],\n",
       "        [ 2.74504693e-01, -1.88227114e-01],\n",
       "        [ 1.78089160e+00, -1.24666561e-01],\n",
       "        [ 1.28081286e+00, -4.59762542e-01],\n",
       "        [-3.80247162e-01,  9.24884909e-01],\n",
       "        [ 1.81184029e-01, -7.40560997e-02],\n",
       "        [ 3.04162914e-01, -2.18199659e-01],\n",
       "        [ 1.99644565e+00,  4.15761888e-01],\n",
       "        [-7.25495307e-01,  6.88227114e-01],\n",
       "        [ 1.87467649e+00,  1.52928327e-02],\n",
       "        [ 1.30098507e+00, -4.53628851e-01],\n",
       "        [ 7.80416626e-01, -4.75593738e-01],\n",
       "        [ 1.41889907e+00, -4.08032802e-01],\n",
       "        [ 8.06531175e-01,  5.91191562e-01],\n",
       "        [ 7.53863623e-01,  6.57030926e-01],\n",
       "        [-2.60515818e-01,  9.65469579e-01],\n",
       "        [ 1.39966195e+00, -4.16662602e-01],\n",
       "        [-8.64263017e-01,  5.03040194e-01],\n",
       "        [ 1.57711727e-01, -3.90273323e-02],\n",
       "        [-9.12398403e-01,  4.09303254e-01],\n",
       "        [-5.47876834e-01,  8.36559008e-01],\n",
       "        [ 6.95837086e-01,  7.18199659e-01],\n",
       "        [ 8.30736770e-01,  5.56665446e-01],\n",
       "        [ 1.71082419e+00, -2.03369724e-01],\n",
       "        [-9.96445654e-01,  8.42381119e-02],\n",
       "        [-4.37949973e-01,  8.98999344e-01],\n",
       "        [ 9.96445654e-01,  8.42381119e-02],\n",
       "        [ 4.87876645e-01, -3.58911910e-01],\n",
       "        [-1.05420620e-02,  9.99944431e-01],\n",
       "        [ 4.56806191e-01,  8.89566245e-01],\n",
       "        [ 7.99135513e-03,  3.73830081e-01],\n",
       "        [ 6.80540653e-01,  7.32710324e-01],\n",
       "        [ 4.32511380e-02,  2.09084866e-01],\n",
       "        [ 1.47545934e+00, -3.79737698e-01],\n",
       "        [ 7.80891598e-01,  6.24666561e-01],\n",
       "        [ 3.00985074e-01,  9.53628851e-01],\n",
       "        [-8.42288273e-01,  5.39027332e-01],\n",
       "        [ 4.17343791e-01, -3.12718735e-01],\n",
       "        [ 9.47313120e-01, -4.98611082e-01],\n",
       "        [ 2.00000000e+00,  5.00000000e-01],\n",
       "        [ 1.61639964e+00, -2.87433478e-01],\n",
       "        [-9.50402855e-01,  3.11021562e-01],\n",
       "        [ 1.99983846e-03,  4.36788628e-01],\n",
       "        [ 6.16399642e-01,  7.87433478e-01],\n",
       "        [-8.84701134e-01,  4.66158669e-01],\n",
       "        [ 9.62669555e-01,  2.70679381e-01],\n",
       "        [ 4.95971445e-02,  1.88978438e-01],\n",
       "        [ 1.51212335e+00, -3.58911910e-01],\n",
       "        [-3.00985074e-01,  9.53628851e-01],\n",
       "        [ 3.16214995e-02,  9.99499915e-01],\n",
       "        [-5.26868800e-02,  9.98611082e-01],\n",
       "        [ 8.53465345e-01,  5.21149599e-01],\n",
       "        [ 9.20824925e-01,  3.89976226e-01],\n",
       "        [ 1.81881597e+00, -7.40560997e-02],\n",
       "        [ 3.18376970e-02,  2.49676699e-01],\n",
       "        [ 9.36446374e-01,  3.50810759e-01],\n",
       "        [ 1.93644637e+00,  1.49189241e-01],\n",
       "        [ 1.78260520e-01,  9.83983327e-01],\n",
       "        [-2.19583374e-01,  9.75593738e-01],\n",
       "        [ 1.17826052e+00, -4.83983327e-01],\n",
       "        [ 1.36066334e+00, -4.32696068e-01],\n",
       "        [ 8.94332492e-01,  4.47402944e-01],\n",
       "        [ 2.32451787e-01, -1.40991217e-01],\n",
       "        [ 8.84701134e-01,  4.66158669e-01],\n",
       "        [-1.15705091e-01,  9.93283611e-01],\n",
       "        [-1.78260520e-01,  9.83983327e-01],\n",
       "        [ 1.05420620e-02,  9.99944431e-01],\n",
       "        [ 9.94448185e-01,  1.05227404e-01],\n",
       "        [ 1.19896617e+00, -4.80006358e-01],\n",
       "        [ 1.05268688e+00, -4.98611082e-01],\n",
       "        [ 7.91750747e-02,  1.10023774e-01],\n",
       "        [ 1.45680619e+00, -3.89566245e-01],\n",
       "        [ 8.74676490e-01,  4.84707167e-01],\n",
       "        [ 2.06112156e-01, -1.08064216e-01],\n",
       "        [ 8.64263017e-01,  5.03040194e-01],\n",
       "        [ 9.26271161e-01, -4.97278325e-01],\n",
       "        [ 1.80653118e+00, -9.11915622e-02],\n",
       "        [ 3.60663340e-01,  9.32696068e-01],\n",
       "        [ 9.68378501e-01, -4.99499915e-01],\n",
       "        [-7.39843910e-01,  6.72778558e-01],\n",
       "        [-3.40919189e-01,  9.40092605e-01],\n",
       "        [-9.89128117e-01,  1.47056346e-01],\n",
       "        [ 4.75459339e-01,  8.79737698e-01],\n",
       "        [ 1.86426302e+00, -3.04019406e-03],\n",
       "        [ 4.52123166e-01, -3.36559008e-01],\n",
       "        [ 3.73304448e-02,  2.29320619e-01],\n",
       "        [-8.94332492e-01,  4.47402944e-01],\n",
       "        [-1.98966171e-01,  9.80006358e-01],\n",
       "        [ 1.26051582e+00, -4.65469579e-01],\n",
       "        [ 1.98204941e+00,  3.11376173e-01],\n",
       "        [ 9.56748862e-01,  2.90915134e-01],\n",
       "        [ 4.69882076e-01, -3.47923927e-01],\n",
       "        [-6.64941692e-01,  7.46895271e-01],\n",
       "        [ 3.35058308e-01, -2.46895271e-01],\n",
       "        [-3.16214995e-02,  9.99499915e-01],\n",
       "        [ 9.03566283e-01,  4.28448330e-01],\n",
       "        [ 4.18899070e-01,  9.08032802e-01],\n",
       "        [-8.30736770e-01,  5.56665446e-01],\n",
       "        [ 9.68162303e-01,  2.50323301e-01],\n",
       "        [-4.75459339e-01,  8.79737698e-01],\n",
       "        [ 2.67753364e-02,  2.70144058e-01],\n",
       "        [ 1.93468825e-01, -9.11915622e-02],\n",
       "        [ 8.63379275e-01, -4.90623429e-01],\n",
       "        [ 1.96266956e+00,  2.29320619e-01],\n",
       "        [ 1.09473802e+00, -4.95502239e-01],\n",
       "        [ 4.34607809e-01, -3.24822205e-01],\n",
       "        [ 1.49390113e+00, -3.69518072e-01],\n",
       "        [ 1.92082493e+00,  1.10023774e-01],\n",
       "        [ 7.59897036e-01, -4.70747427e-01],\n",
       "        [ 6.59080811e-01, -4.40092605e-01],\n",
       "        [ 1.72549531e+00, -1.88227114e-01],\n",
       "        [-9.98000162e-01,  6.32113721e-02],\n",
       "        [ 1.56539219e+00, -3.24822205e-01],\n",
       "        [ 1.13662072e+00, -4.90623429e-01],\n",
       "        [ 2.40102964e-01,  9.70747427e-01],\n",
       "        [-9.68162303e-01,  2.50323301e-01],\n",
       "        [-7.10824191e-01,  7.03369724e-01],\n",
       "        [ 1.79505859e-02,  3.11376173e-01],\n",
       "        [ 1.53011792e+00, -3.47923927e-01],\n",
       "        [-6.32864057e-01,  7.74262931e-01],\n",
       "        [-9.85807881e-01,  1.67877401e-01],\n",
       "        [ 9.99777730e-01,  2.10829523e-02],\n",
       "        [ 8.42524376e-01, -4.87522875e-01],\n",
       "        [ 9.82049414e-01,  1.88623827e-01],\n",
       "        [ 2.80812862e-01,  9.59762542e-01],\n",
       "        [ 9.85807881e-01,  1.67877401e-01],\n",
       "        [ 5.81100930e-01, -4.08032802e-01],\n",
       "        [ 1.46534655e-01, -2.11495992e-02],\n",
       "        [ 1.69583709e+00, -2.18199659e-01],\n",
       "        [-9.62669555e-01,  2.70679381e-01],\n",
       "        [ 1.15705091e-01,  9.93283611e-01],\n",
       "        [ 7.39484182e-01, -4.65469579e-01],\n",
       "        [ 1.76754821e+00, -1.40991217e-01],\n",
       "        [ 1.94363436e+00,  1.69010270e-01],\n",
       "        [ 9.98000162e-01,  6.32113721e-02],\n",
       "        [-9.20824925e-01,  3.89976226e-01],\n",
       "        [ 1.21958337e+00, -4.75593738e-01],\n",
       "        [ 1.43794997e+00, -3.98999344e-01],\n",
       "        [ 6.99014926e-01, -4.53628851e-01],\n",
       "        [ 9.89457938e-01, -4.99944431e-01],\n",
       "        [ 7.10824191e-01,  7.03369724e-01],\n",
       "        [ 9.77854387e-01,  2.09286403e-01],\n",
       "        [ 6.49047138e-01,  7.60748192e-01],\n",
       "        [ 1.66494169e+00, -2.46895271e-01],\n",
       "        [-8.53465345e-01,  5.21149599e-01],\n",
       "        [-2.80812862e-01,  9.59762542e-01],\n",
       "        [-7.80891598e-01,  6.24666561e-01],\n",
       "        [-9.43634357e-01,  3.30989730e-01]]),\n",
       " array([0, 1, 0, 1, 1, 0, 1, 1, 0, 0, 1, 0, 0, 0, 1, 0, 0, 1, 1, 1, 1, 0,\n",
       "        1, 1, 0, 0, 1, 0, 0, 0, 1, 1, 0, 0, 1, 0, 0, 1, 0, 0, 1, 0, 1, 0,\n",
       "        1, 0, 1, 0, 0, 0, 0, 1, 0, 1, 1, 1, 1, 0, 1, 1, 0, 1, 0, 1, 1, 1,\n",
       "        1, 0, 0, 0, 1, 0, 1, 0, 1, 1, 0, 1, 1, 0, 1, 1, 0, 1, 1, 1, 0, 0,\n",
       "        1, 1, 0, 0, 0, 0, 0, 1, 1, 1, 0, 0, 1, 1, 0, 0, 1, 0, 1, 0, 1, 1,\n",
       "        1, 1, 1, 0, 0, 1, 0, 1, 0, 1, 1, 0, 0, 0, 0, 1, 0, 1, 0, 0, 0, 1,\n",
       "        0, 1, 1, 1, 1, 0, 0, 1, 1, 0, 1, 1, 0, 1, 0, 0, 0, 0, 1, 1, 1, 1,\n",
       "        1, 1, 0, 1, 1, 1, 0, 1, 1, 1, 1, 0, 0, 0, 1, 0, 1, 0, 0, 0, 0, 1,\n",
       "        0, 0, 0, 1, 0, 0, 1, 0, 1, 1, 0, 0, 0, 1, 1, 1, 1, 0, 1, 0, 0, 0,\n",
       "        1, 1, 0, 0, 0, 0, 0, 1, 1, 0, 1, 0, 0, 1, 1, 0, 1, 0, 0, 0, 0, 0,\n",
       "        1, 1, 1, 1, 0, 1, 0, 1, 1, 0, 1, 0, 0, 0, 0, 1, 1, 1, 0, 0, 1, 1,\n",
       "        0, 1, 0, 1, 0, 0, 0, 0, 0, 0, 1, 1, 1, 1, 1, 1, 1, 1, 1, 1, 1, 0,\n",
       "        1, 1, 0, 0, 0, 1, 1, 0, 0, 0, 1, 0, 0, 0, 1, 1, 1, 0, 0, 1, 1, 1,\n",
       "        0, 0, 1, 1, 1, 1, 0, 0, 0, 1, 0, 0, 0, 0], dtype=int64))"
      ]
     },
     "execution_count": 3,
     "metadata": {},
     "output_type": "execute_result"
    }
   ],
   "source": [
    "X,y"
   ]
  },
  {
   "cell_type": "code",
   "execution_count": 4,
   "id": "ad33aa0a",
   "metadata": {},
   "outputs": [],
   "source": [
    "from sklearn.model_selection import train_test_split\n",
    "X_train, X_test, y_train, y_test = train_test_split(X, y, test_size = 0.25)"
   ]
  },
  {
   "cell_type": "code",
   "execution_count": 5,
   "id": "cb9e38bb",
   "metadata": {},
   "outputs": [],
   "source": [
    "from sklearn.preprocessing import StandardScaler\n",
    "sc = StandardScaler()\n",
    "X_train_= sc.fit_transform(X_train)\n",
    "X_test = sc.transform(X_test)"
   ]
  },
  {
   "cell_type": "code",
   "execution_count": 6,
   "id": "5cd8f10d",
   "metadata": {},
   "outputs": [
    {
     "data": {
      "text/plain": [
       "LogisticRegression()"
      ]
     },
     "execution_count": 6,
     "metadata": {},
     "output_type": "execute_result"
    }
   ],
   "source": [
    "from sklearn.linear_model import LogisticRegression\n",
    "classifier = LogisticRegression()\n",
    "classifier.fit(X_train, y_train)"
   ]
  },
  {
   "cell_type": "code",
   "execution_count": 7,
   "id": "e838d059",
   "metadata": {},
   "outputs": [],
   "source": [
    "y_pred = classifier.predict(X_test)"
   ]
  },
  {
   "cell_type": "code",
   "execution_count": 8,
   "id": "3f1eb802",
   "metadata": {},
   "outputs": [
    {
     "data": {
      "text/plain": [
       "0.92"
      ]
     },
     "execution_count": 8,
     "metadata": {},
     "output_type": "execute_result"
    }
   ],
   "source": [
    "accuracy_score(y_test,y_pred)"
   ]
  },
  {
   "cell_type": "code",
   "execution_count": 10,
   "id": "6a1e1dc8",
   "metadata": {},
   "outputs": [
    {
     "name": "stdout",
     "output_type": "stream",
     "text": [
      "[[34  4]\n",
      " [ 2 35]]\n"
     ]
    }
   ],
   "source": [
    "from sklearn.metrics import confusion_matrix\n",
    "print(confusion_matrix(y_test,y_pred))"
   ]
  },
  {
   "cell_type": "code",
   "execution_count": 12,
   "id": "62f56a7d",
   "metadata": {},
   "outputs": [],
   "source": [
    "from sklearn.metrics import classification_report\n",
    "report= classification_report(y_test,y_pred)"
   ]
  },
  {
   "cell_type": "code",
   "execution_count": 13,
   "id": "42e7a1f4",
   "metadata": {},
   "outputs": [
    {
     "name": "stdout",
     "output_type": "stream",
     "text": [
      "              precision    recall  f1-score   support\n",
      "\n",
      "           0       0.94      0.89      0.92        38\n",
      "           1       0.90      0.95      0.92        37\n",
      "\n",
      "    accuracy                           0.92        75\n",
      "   macro avg       0.92      0.92      0.92        75\n",
      "weighted avg       0.92      0.92      0.92        75\n",
      "\n"
     ]
    }
   ],
   "source": [
    "print(report)"
   ]
  },
  {
   "cell_type": "code",
   "execution_count": 14,
   "id": "8244f296",
   "metadata": {},
   "outputs": [],
   "source": [
    "from numpy import where\n",
    "from numpy import meshgrid\n",
    "from numpy import arange\n",
    "from numpy import hstack\n",
    "from sklearn.datasets import make_blobs\n",
    "from sklearn.linear_model import LogisticRegression\n",
    "from matplotlib import pyplot"
   ]
  },
  {
   "cell_type": "code",
   "execution_count": 15,
   "id": "422189f6",
   "metadata": {},
   "outputs": [
    {
     "data": {
      "image/png": "[encoded data removed]",
      "text/plain": [
       "<Figure size 432x288 with 1 Axes>"
      ]
     },
     "metadata": {
      "needs_background": "light"
     },
     "output_type": "display_data"
    }
   ],
   "source": [
    "\n",
    "\n",
    "\n",
    "min1, max1 = X[:, 0].min()-1, X[:, 0].max()+1\n",
    "\n",
    "min2, max2 = X[:, 1].min()-1, X[:, 1].max()+1\n",
    "# define the x and y scale\n",
    "x1grid = arange(min1, max1, 0.1)\n",
    "x2grid = arange(min2, max2, 0.1)\n",
    "# create all of the lines and rows of the grid\n",
    "xx, yy = meshgrid(x1grid, x2grid)\n",
    "# flatten each grid to a vector\n",
    "r1, r2 = xx.flatten(), yy.flatten()\n",
    "r1, r2 = r1.reshape((len(r1), 1)), r2.reshape((len(r2), 1))\n",
    "# horizontal stack vectors to create x1,x2 input for the model\n",
    "grid = hstack((r1,r2))\n",
    "# define the model\n",
    "model = LogisticRegression()\n",
    "# fit the model\n",
    "model.fit(X_train, y_train)\n",
    "# make predictions for the grid\n",
    "yhat = model.predict(grid)\n",
    "# reshape the predictions back into a grid\n",
    "zz = yhat.reshape(xx.shape)\n",
    "# plot the grid of x, y and z values as a surface\n",
    "pyplot.contourf(xx, yy, zz, cmap='Paired')\n",
    "# create scatter plot for samples from each class\n",
    "for class_value in range(2):\n",
    "\t# get row indexes for samples with this class\n",
    "\trow_ix = where(y == class_value)\n",
    "\t# create scatter of these samples\n",
    "\tpyplot.scatter(X[row_ix, 0], X[row_ix, 1], cmap='Paired')\n",
    "# show the plot\n",
    "pyplot.show()"
   ]
  },
  {
   "cell_type": "code",
   "execution_count": 17,
   "id": "6168e14f",
   "metadata": {},
   "outputs": [
    {
     "name": "stdout",
     "output_type": "stream",
     "text": [
      "[[ 0.         -0.59966121  0.         ...  0.          0.\n",
      "   0.        ]\n",
      " [ 0.          0.80025398  0.         ...  0.          0.\n",
      "   0.        ]\n",
      " [ 0.          1.01054206  0.         ...  0.          0.\n",
      "   0.        ]\n",
      " ...\n",
      " [ 0.          0.62466656  0.         ...  0.          0.\n",
      "   0.        ]\n",
      " [ 0.         -0.94363436  0.         ...  0.          0.\n",
      "   0.        ]\n",
      " [ 0.          0.33098973  0.         ...  0.          0.\n",
      "   0.        ]]\n"
     ]
    }
   ],
   "source": [
    "# i dont understand that\n",
    "\n",
    "\n",
    "from sklearn.metrics.pairwise import pairwise_kernels\n",
    "\n",
    "k = pairwise_kernels(X.reshape(-1, 1), Y=y.reshape(-1, 1), metric='linear')\n",
    "print(k)"
   ]
  },
  {
   "cell_type": "code",
   "execution_count": 18,
   "id": "19ba8102",
   "metadata": {},
   "outputs": [],
   "source": [
    "from sklearn.pipeline import make_pipeline\n",
    "from sklearn.preprocessing import StandardScaler\n",
    "from sklearn.svm import SVC\n",
    "from sklearn.pipeline import Pipeline"
   ]
  },
  {
   "cell_type": "code",
   "execution_count": 19,
   "id": "19172306",
   "metadata": {},
   "outputs": [],
   "source": [
    "linear_svc = svm.SVC(kernel='linear')"
   ]
  },
  {
   "cell_type": "code",
   "execution_count": 20,
   "id": "79cdf98f",
   "metadata": {},
   "outputs": [
    {
     "data": {
      "text/plain": [
       "SVC(kernel='linear')"
      ]
     },
     "execution_count": 20,
     "metadata": {},
     "output_type": "execute_result"
    }
   ],
   "source": [
    "linear_svc.fit(X_train, y_train)"
   ]
  },
  {
   "cell_type": "code",
   "execution_count": 21,
   "id": "a736eb1a",
   "metadata": {},
   "outputs": [],
   "source": [
    "from sklearn.model_selection import train_test_split, GridSearchCV\n",
    "from sklearn.neighbors import KNeighborsClassifier"
   ]
  },
  {
   "cell_type": "code",
   "execution_count": 22,
   "id": "ba535027",
   "metadata": {},
   "outputs": [],
   "source": [
    "pipe_knn = Pipeline([('scl', StandardScaler()),\n",
    "                    ('KNN', KNeighborsClassifier())])"
   ]
  },
  {
   "cell_type": "code",
   "execution_count": 23,
   "id": "c789e0ff",
   "metadata": {},
   "outputs": [],
   "source": [
    "pipe_svm = Pipeline([('scl', StandardScaler()),\n",
    "                     ('SVM', SVC(random_state=42))])"
   ]
  },
  {
   "cell_type": "code",
   "execution_count": 24,
   "id": "791d65dd",
   "metadata": {},
   "outputs": [],
   "source": [
    "param_range = [1, 2, 3, 4, 5, 6]\n",
    "n_estimators = [50,100,150]\n",
    "learning_rates = [.1,]"
   ]
  },
  {
   "cell_type": "code",
   "execution_count": 25,
   "id": "031fdc2c",
   "metadata": {},
   "outputs": [],
   "source": [
    "knn_param_grid = [{'KNN__n_neighbors': param_range,\n",
    "                   'KNN__weights': ['uniform', 'distance'],\n",
    "                   'KNN__metric': ['euclidean', 'manhattan']}]\n",
    "svm_param_grid = [{'SVM__kernel': ['linear', 'rbf'], \n",
    "                    'SVM__C': param_range}]"
   ]
  },
  {
   "cell_type": "code",
   "execution_count": 26,
   "id": "15577596",
   "metadata": {},
   "outputs": [],
   "source": [
    "knn_grid_search = GridSearchCV(estimator=pipe_knn,\n",
    "        param_grid=knn_param_grid,\n",
    "        scoring='accuracy')"
   ]
  },
  {
   "cell_type": "code",
   "execution_count": 27,
   "id": "c4231695",
   "metadata": {},
   "outputs": [],
   "source": [
    "svm_grid_search = GridSearchCV(estimator=pipe_svm,\n",
    "        param_grid=svm_param_grid,\n",
    "        scoring='accuracy')"
   ]
  },
  {
   "cell_type": "code",
   "execution_count": 28,
   "id": "a8072752",
   "metadata": {},
   "outputs": [
    {
     "data": {
      "text/plain": [
       "GridSearchCV(estimator=Pipeline(steps=[('scl', StandardScaler()),\n",
       "                                       ('KNN', KNeighborsClassifier())]),\n",
       "             param_grid=[{'KNN__metric': ['euclidean', 'manhattan'],\n",
       "                          'KNN__n_neighbors': [1, 2, 3, 4, 5, 6],\n",
       "                          'KNN__weights': ['uniform', 'distance']}],\n",
       "             scoring='accuracy')"
      ]
     },
     "execution_count": 28,
     "metadata": {},
     "output_type": "execute_result"
    }
   ],
   "source": [
    "knn_grid_search.fit(X_train,y_train)"
   ]
  },
  {
   "cell_type": "code",
   "execution_count": 29,
   "id": "e7c13046",
   "metadata": {},
   "outputs": [
    {
     "data": {
      "text/plain": [
       "GridSearchCV(estimator=Pipeline(steps=[('scl', StandardScaler()),\n",
       "                                       ('SVM', SVC(random_state=42))]),\n",
       "             param_grid=[{'SVM__C': [1, 2, 3, 4, 5, 6],\n",
       "                          'SVM__kernel': ['linear', 'rbf']}],\n",
       "             scoring='accuracy')"
      ]
     },
     "execution_count": 29,
     "metadata": {},
     "output_type": "execute_result"
    }
   ],
   "source": [
    "svm_grid_search.fit(X_train,y_train)"
   ]
  },
  {
   "cell_type": "code",
   "execution_count": 30,
   "id": "6350d720",
   "metadata": {},
   "outputs": [
    {
     "data": {
      "text/plain": [
       "0.88"
      ]
     },
     "execution_count": 30,
     "metadata": {},
     "output_type": "execute_result"
    }
   ],
   "source": [
    "knn_grid_search.score(X_test,y_test)"
   ]
  },
  {
   "cell_type": "code",
   "execution_count": 31,
   "id": "e9a5138d",
   "metadata": {},
   "outputs": [
    {
     "data": {
      "text/plain": [
       "0.96"
      ]
     },
     "execution_count": 31,
     "metadata": {},
     "output_type": "execute_result"
    }
   ],
   "source": [
    "svm_grid_search.score(X_test,y_test)"
   ]
  },
  {
   "cell_type": "code",
   "execution_count": 33,
   "id": "202f4952",
   "metadata": {},
   "outputs": [
    {
     "data": {
      "text/plain": [
       "{'KNN__metric': 'euclidean', 'KNN__n_neighbors': 1, 'KNN__weights': 'uniform'}"
      ]
     },
     "execution_count": 33,
     "metadata": {},
     "output_type": "execute_result"
    }
   ],
   "source": [
    "knn_grid_search.best_params_"
   ]
  },
  {
   "cell_type": "code",
   "execution_count": 34,
   "id": "88d017b3",
   "metadata": {},
   "outputs": [
    {
     "data": {
      "text/plain": [
       "{'SVM__C': 1, 'SVM__kernel': 'rbf'}"
      ]
     },
     "execution_count": 34,
     "metadata": {},
     "output_type": "execute_result"
    }
   ],
   "source": [
    "svm_grid_search.best_params_"
   ]
  },
  {
   "cell_type": "code",
   "execution_count": null,
   "id": "ae109699",
   "metadata": {},
   "outputs": [],
   "source": []
  }
 ],
 "metadata": {
  "kernelspec": {
   "display_name": "Python 3 (ipykernel)",
   "language": "python",
   "name": "python3"
  },
  "language_info": {
   "codemirror_mode": {
    "name": "ipython",
    "version": 3
   },
   "file_extension": ".py",
   "mimetype": "text/x-python",
   "name": "python",
   "nbconvert_exporter": "python",
   "pygments_lexer": "ipython3",
   "version": "3.9.7"
  }
 },
 "nbformat": 4,
 "nbformat_minor": 5
}
