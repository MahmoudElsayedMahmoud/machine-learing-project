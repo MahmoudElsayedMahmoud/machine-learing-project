{
 "cells": [
  {
   "cell_type": "code",
   "execution_count": 1,
   "id": "d480358c",
   "metadata": {},
   "outputs": [],
   "source": [
    "import numpy as np\n",
    "from sklearn import *\n",
    "from sklearn.model_selection import train_test_split\n",
    "import matplotlib.pylab as plt\n",
    "from sklearn.preprocessing import StandardScaler\n",
    "from sklearn.datasets import make_classification \n",
    "from sklearn.metrics import mean_squared_error, r2_score\n",
    "from numpy import asarray\n",
    "from numpy.random import rand\n",
    "import matplotlib.pyplot as plt\n",
    "from sklearn.metrics import accuracy_score\n",
    "from sklearn.datasets import make_regression, make_classification"
   ]
  },
  {
   "cell_type": "code",
   "execution_count": 2,
   "id": "48eb8f32",
   "metadata": {},
   "outputs": [],
   "source": [
    "import numpy as np\n",
    "import pandas as pd\n",
    "from sklearn.datasets import load_breast_cancer\n",
    "cancer = load_breast_cancer()"
   ]
  },
  {
   "cell_type": "code",
   "execution_count": 3,
   "id": "2e2c5614",
   "metadata": {},
   "outputs": [],
   "source": [
    "X,y = load_breast_cancer(return_X_y=True)\n"
   ]
  },
  {
   "cell_type": "code",
   "execution_count": 4,
   "id": "445112a2",
   "metadata": {},
   "outputs": [
    {
     "data": {
      "text/plain": [
       "(569,)"
      ]
     },
     "execution_count": 4,
     "metadata": {},
     "output_type": "execute_result"
    }
   ],
   "source": [
    "y.shape\n"
   ]
  },
  {
   "cell_type": "code",
   "execution_count": 5,
   "id": "15058344",
   "metadata": {},
   "outputs": [],
   "source": [
    "from sklearn.model_selection import train_test_split\n",
    "X_train, X_test, y_train, y_test = train_test_split(X, y, test_size = 0.25)\n"
   ]
  },
  {
   "cell_type": "code",
   "execution_count": 6,
   "id": "223ca089",
   "metadata": {},
   "outputs": [
    {
     "data": {
      "text/plain": [
       "((426, 30), (143, 30), (426,), (143,))"
      ]
     },
     "execution_count": 6,
     "metadata": {},
     "output_type": "execute_result"
    }
   ],
   "source": [
    "X_train.shape , X_test.shape, y_train.shape, y_test.shape"
   ]
  },
  {
   "cell_type": "code",
   "execution_count": 7,
   "id": "9b6474df",
   "metadata": {},
   "outputs": [],
   "source": [
    "from numpy import log, dot, e\n",
    "from numpy.random import rand\n",
    "\n",
    "class LogisticRegression:\n",
    "    \n",
    "    def sigmoid(self, z):\n",
    "        return 1 / (1 + e**(-z))\n",
    "    \n",
    "    def cost_function(self, X, y, weights):                 \n",
    "        z = dot(X, weights)\n",
    "        predict_1 = y * log(self.sigmoid(z))\n",
    "        predict_0 = (1 - y) * log(1 - self.sigmoid(z))\n",
    "        return -sum(predict_1 + predict_0) / len(X)\n",
    "    \n",
    "    def fit(self, X, y, epochs=25, lr=0.05):        \n",
    "        loss = []\n",
    "        weights = rand(X.shape[1])\n",
    "        N = len(X)\n",
    "                 \n",
    "        for _ in range(epochs):        \n",
    "            # Gradient Descent\n",
    "            y_hat = self.sigmoid(dot(X, weights))\n",
    "            weights -= lr * dot(X.T,  y_hat - y) / N            \n",
    "            # Saving Progress\n",
    "            loss.append(self.cost_function(X, y, weights)) \n",
    "            \n",
    "        self.weights = weights\n",
    "        self.loss = loss\n",
    "    \n",
    "    def predict(self, X):        \n",
    "        # Predicting with sigmoid function\n",
    "        z = dot(X, self.weights)\n",
    "        # Returning binary result\n",
    "        return [1 if i > 0.5 else 0 for i in self.sigmoid(z)]"
   ]
  },
  {
   "cell_type": "code",
   "execution_count": 8,
   "id": "4075289b",
   "metadata": {},
   "outputs": [
    {
     "name": "stderr",
     "output_type": "stream",
     "text": [
      "C:\\Users\\mahmoud\\AppData\\Local\\Temp/ipykernel_5332/153417074.py:7: RuntimeWarning: overflow encountered in power\n",
      "  return 1 / (1 + e**(-z))\n",
      "C:\\Users\\mahmoud\\AppData\\Local\\Temp/ipykernel_5332/153417074.py:11: RuntimeWarning: divide by zero encountered in log\n",
      "  predict_1 = y * log(self.sigmoid(z))\n",
      "C:\\Users\\mahmoud\\AppData\\Local\\Temp/ipykernel_5332/153417074.py:11: RuntimeWarning: invalid value encountered in multiply\n",
      "  predict_1 = y * log(self.sigmoid(z))\n",
      "C:\\Users\\mahmoud\\AppData\\Local\\Temp/ipykernel_5332/153417074.py:12: RuntimeWarning: divide by zero encountered in log\n",
      "  predict_0 = (1 - y) * log(1 - self.sigmoid(z))\n",
      "C:\\Users\\mahmoud\\AppData\\Local\\Temp/ipykernel_5332/153417074.py:12: RuntimeWarning: invalid value encountered in multiply\n",
      "  predict_0 = (1 - y) * log(1 - self.sigmoid(z))\n"
     ]
    }
   ],
   "source": [
    "classifer = LogisticRegression()\n",
    "\n",
    "classifer.fit(X_train,y_train)"
   ]
  },
  {
   "cell_type": "code",
   "execution_count": 9,
   "id": "4e6bfb67",
   "metadata": {},
   "outputs": [
    {
     "name": "stderr",
     "output_type": "stream",
     "text": [
      "C:\\Users\\mahmoud\\AppData\\Local\\Temp/ipykernel_5332/153417074.py:7: RuntimeWarning: overflow encountered in power\n",
      "  return 1 / (1 + e**(-z))\n"
     ]
    }
   ],
   "source": [
    "y_pred= classifer.predict(X_test)"
   ]
  },
  {
   "cell_type": "code",
   "execution_count": 10,
   "id": "91c7fc58",
   "metadata": {},
   "outputs": [
    {
     "data": {
      "text/plain": [
       "0.7622377622377622"
      ]
     },
     "execution_count": 10,
     "metadata": {},
     "output_type": "execute_result"
    }
   ],
   "source": [
    "accuracy_score(y_test,y_pred)"
   ]
  },
  {
   "cell_type": "code",
   "execution_count": 11,
   "id": "7e78a05e",
   "metadata": {},
   "outputs": [],
   "source": [
    "from sklearn.metrics import classification_report"
   ]
  },
  {
   "cell_type": "code",
   "execution_count": 12,
   "id": "445f0907",
   "metadata": {},
   "outputs": [],
   "source": [
    "report= classification_report(y_test,y_pred)"
   ]
  },
  {
   "cell_type": "code",
   "execution_count": 13,
   "id": "328f76a4",
   "metadata": {},
   "outputs": [
    {
     "name": "stdout",
     "output_type": "stream",
     "text": [
      "              precision    recall  f1-score   support\n",
      "\n",
      "           0       0.62      0.92      0.74        53\n",
      "           1       0.94      0.67      0.78        90\n",
      "\n",
      "    accuracy                           0.76       143\n",
      "   macro avg       0.78      0.80      0.76       143\n",
      "weighted avg       0.82      0.76      0.77       143\n",
      "\n"
     ]
    }
   ],
   "source": [
    "print(report)"
   ]
  },
  {
   "cell_type": "code",
   "execution_count": 14,
   "id": "b35f7a0c",
   "metadata": {},
   "outputs": [],
   "source": [
    "from sklearn.metrics import confusion_matrix"
   ]
  },
  {
   "cell_type": "code",
   "execution_count": 15,
   "id": "edc95520",
   "metadata": {},
   "outputs": [
    {
     "data": {
      "text/plain": [
       "array([[49,  4],\n",
       "       [30, 60]], dtype=int64)"
      ]
     },
     "execution_count": 15,
     "metadata": {},
     "output_type": "execute_result"
    }
   ],
   "source": [
    "confusion_matrix(y_test,y_pred)"
   ]
  },
  {
   "cell_type": "markdown",
   "id": "fac322a0",
   "metadata": {},
   "source": [
    "inblance dataset\n",
    "class0 : 42+10 = 52 class1 L 5+86 = 91\n",
    "\n"
   ]
  },
  {
   "cell_type": "code",
   "execution_count": 16,
   "id": "2e08f030",
   "metadata": {},
   "outputs": [],
   "source": [
    "from sklearn.preprocessing import StandardScaler\n",
    "sc = StandardScaler()\n",
    "X_train_ = sc.fit_transform(X_train)\n",
    "X_test_ = sc.transform(X_test)"
   ]
  },
  {
   "cell_type": "code",
   "execution_count": 17,
   "id": "26b63299",
   "metadata": {},
   "outputs": [
    {
     "data": {
      "text/plain": [
       "LogisticRegression()"
      ]
     },
     "execution_count": 17,
     "metadata": {},
     "output_type": "execute_result"
    }
   ],
   "source": [
    "from sklearn.linear_model import LogisticRegression\n",
    "classifier = LogisticRegression()\n",
    "classifier.fit(X_train_, y_train)"
   ]
  },
  {
   "cell_type": "code",
   "execution_count": 18,
   "id": "bcd11d51",
   "metadata": {},
   "outputs": [],
   "source": [
    "y_pred = classifier.predict(X_test_)"
   ]
  },
  {
   "cell_type": "code",
   "execution_count": 19,
   "id": "00257c95",
   "metadata": {},
   "outputs": [
    {
     "data": {
      "text/plain": [
       "0.972027972027972"
      ]
     },
     "execution_count": 19,
     "metadata": {},
     "output_type": "execute_result"
    }
   ],
   "source": [
    "accuracy_score(y_test,y_pred)\n"
   ]
  },
  {
   "cell_type": "code",
   "execution_count": 20,
   "id": "d7a4286e",
   "metadata": {},
   "outputs": [
    {
     "data": {
      "text/plain": [
       "array([[51,  2],\n",
       "       [ 2, 88]], dtype=int64)"
      ]
     },
     "execution_count": 20,
     "metadata": {},
     "output_type": "execute_result"
    }
   ],
   "source": [
    "confusion_matrix(y_test,y_pred)"
   ]
  },
  {
   "cell_type": "code",
   "execution_count": 21,
   "id": "ddd8af36",
   "metadata": {},
   "outputs": [
    {
     "name": "stdout",
     "output_type": "stream",
     "text": [
      "              precision    recall  f1-score   support\n",
      "\n",
      "           0       0.96      0.96      0.96        53\n",
      "           1       0.98      0.98      0.98        90\n",
      "\n",
      "    accuracy                           0.97       143\n",
      "   macro avg       0.97      0.97      0.97       143\n",
      "weighted avg       0.97      0.97      0.97       143\n",
      "\n"
     ]
    }
   ],
   "source": [
    "report= classification_report(y_test,y_pred)\n",
    "print(report)"
   ]
  },
  {
   "cell_type": "code",
   "execution_count": null,
   "id": "031dd646",
   "metadata": {},
   "outputs": [],
   "source": []
  }
 ],
 "metadata": {
  "kernelspec": {
   "display_name": "Python 3 (ipykernel)",
   "language": "python",
   "name": "python3"
  },
  "language_info": {
   "codemirror_mode": {
    "name": "ipython",
    "version": 3
   },
   "file_extension": ".py",
   "mimetype": "text/x-python",
   "name": "python",
   "nbconvert_exporter": "python",
   "pygments_lexer": "ipython3",
   "version": "3.9.7"
  }
 },
 "nbformat": 4,
 "nbformat_minor": 5
}
